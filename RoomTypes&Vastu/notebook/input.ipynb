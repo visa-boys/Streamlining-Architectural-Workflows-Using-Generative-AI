{
 "cells": [
  {
   "cell_type": "code",
   "execution_count": 1,
   "metadata": {},
   "outputs": [],
   "source": [
    "import numpy as np\n",
    "df=np.load('clean_data.pkl',allow_pickle=True)"
   ]
  },
  {
   "cell_type": "code",
   "execution_count": 2,
   "metadata": {},
   "outputs": [
    {
     "data": {
      "text/plain": [
       "[[1, 3, 0, 7, 2, 9],\n",
       " [array([ 72,  94, 125,  34], dtype=int64),\n",
       "  array([ 72, 125, 108,  97], dtype=int64),\n",
       "  array([111, 227, 185,  51], dtype=int64),\n",
       "  array([ 72, 168, 125, 128], dtype=int64),\n",
       "  array([115, 202, 145, 171], dtype=int64),\n",
       "  array([128,  48, 185,  26], dtype=int64)],\n",
       " [5, 5, 1, 7, 0, 4]]"
      ]
     },
     "execution_count": 2,
     "metadata": {},
     "output_type": "execute_result"
    }
   ],
   "source": [
    "df[0]"
   ]
  },
  {
   "cell_type": "code",
   "execution_count": 5,
   "metadata": {},
   "outputs": [
    {
     "data": {
      "text/plain": [
       "[[1, 3, 0, 7, 2, 9, 13],\n",
       " [array([ 72,  94, 125,  34], dtype=int64),\n",
       "  array([ 72, 125, 108,  97], dtype=int64),\n",
       "  array([111, 227, 185,  51], dtype=int64),\n",
       "  array([ 72, 168, 125, 128], dtype=int64),\n",
       "  array([115, 202, 145, 171], dtype=int64),\n",
       "  array([128,  48, 185,  26], dtype=int64),\n",
       "  array([165, 217, 168, 202], dtype=int64)],\n",
       " [5, 5, 1, 7, 0, 4, 1],\n",
       " [7, 1, 6, 7, 2, 2, 7]]"
      ]
     },
     "execution_count": 5,
     "metadata": {},
     "output_type": "execute_result"
    }
   ],
   "source": [
    "import numpy as np\n",
    "df1=np.load('vastu_clean_data.pkl',allow_pickle=True)\n",
    "df1[0]"
   ]
  },
  {
   "cell_type": "code",
   "execution_count": null,
   "metadata": {},
   "outputs": [],
   "source": []
  }
 ],
 "metadata": {
  "kernelspec": {
   "display_name": "graph",
   "language": "python",
   "name": "python3"
  },
  "language_info": {
   "codemirror_mode": {
    "name": "ipython",
    "version": 3
   },
   "file_extension": ".py",
   "mimetype": "text/x-python",
   "name": "python",
   "nbconvert_exporter": "python",
   "pygments_lexer": "ipython3",
   "version": "3.9.18"
  }
 },
 "nbformat": 4,
 "nbformat_minor": 2
}
