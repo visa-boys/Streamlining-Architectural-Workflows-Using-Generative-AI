{
 "cells": [
  {
   "cell_type": "code",
   "execution_count": 1,
   "metadata": {},
   "outputs": [
    {
     "data": {
      "image/png": "[encoded data removed]",
      "text/plain": [
       "<Figure size 640x480 with 1 Axes>"
      ]
     },
     "metadata": {},
     "output_type": "display_data"
    }
   ],
   "source": [
    "import matplotlib.pyplot as plt\n",
    "import matplotlib.patches as patches\n",
    "\n",
    "# Define the rectangles\n",
    "rectangles = [(77, 112, 156, 186), (72, 48, 156, 112), (31, 112, 76, 166), (106, 186, 156, 200), (49, 92, 72, 111), (157, 58, 189, 97)]\n",
    "rectangles = [[x, 255 - y1, x2, 255 - y2] for x, y1, x2, y2 in rectangles]\n",
    "# Create figure and axis\n",
    "fig, ax = plt.subplots()\n",
    "\n",
    "# Set limits\n",
    "ax.set_xlim(0, 256)\n",
    "ax.set_ylim(0, 256)\n",
    "\n",
    "# Add rectangles to the plot\n",
    "for rect in rectangles:\n",
    "    ax.add_patch(patches.Rectangle((rect[0], rect[1]), rect[2]-rect[0], rect[3]-rect[1], linewidth=1, edgecolor='r', facecolor='none'))\n",
    "ax.set_aspect('equal')\n",
    "# Display the plot\n",
    "plt.show()\n"
   ]
  },
  {
   "cell_type": "code",
   "execution_count": 2,
   "metadata": {},
   "outputs": [],
   "source": [
    "from torch_geometric.data import Data\n",
    "import torch\n",
    "import numpy as np"
   ]
  },
  {
   "cell_type": "code",
   "execution_count": 3,
   "metadata": {},
   "outputs": [],
   "source": [
    "\n",
    "from torch.nn import Linear\n",
    "from torch_geometric.nn import SAGEConv, GATConv, GCNConv, TAGConv"
   ]
  },
  {
   "cell_type": "code",
   "execution_count": 4,
   "metadata": {},
   "outputs": [
    {
     "name": "stdout",
     "output_type": "stream",
     "text": [
      "Data(x=[6, 5], edge_index=[2, 14])\n"
     ]
    }
   ],
   "source": [
    "def intersect(A,B):\n",
    "    A, B = A[:,None], B[None]\n",
    "    low = np.s_[...,:2]\n",
    "    high = np.s_[...,2:]\n",
    "    A,B = A.copy(),B.copy()\n",
    "    A[high] += 1; B[high] += 1\n",
    "    intrs = (np.maximum(0,np.minimum(A[high],B[high])\n",
    "                        -np.maximum(A[low],B[low]))).prod(-1)\n",
    "    return intrs #/ ((A[high]-A[low]).prod(-1)+(B[high]-B[low]).prod(-1)-intrs)\n",
    "\n",
    "def build_graph(bbs,temp):\n",
    "    edges = []\n",
    "    for k in range(len(bbs)):\n",
    "        for l in range(len(bbs)):\n",
    "            if l > k:\n",
    "                bb0 = bbs[k]\n",
    "                bb1 = bbs[l]\n",
    "                #print(bbs,temp)\n",
    "                bb2 = temp[k]\n",
    "                bb3 = temp[l]\n",
    "                if is_adjacent(bb0, bb1) and  manhattam(bb2,bb3):\n",
    "                    edges.append([k, l])\n",
    "                    edges.append([l, k])\n",
    "    edges = np.array(edges)\n",
    "    return edges\n",
    "\n",
    "def is_adjacent(box_a, box_b, threshold=0.03):\n",
    "        \n",
    "    x0, y0, x1, y1 = box_a\n",
    "    x2, y2, x3, y3 = box_b\n",
    "    h1, h2 = x1-x0, x3-x2\n",
    "    w1, w2 = y1-y0, y3-y2\n",
    "    xc1, xc2 = (x0+x1)/2.0, (x2+x3)/2.0\n",
    "    yc1, yc2 = (y0+y1)/2.0, (y2+y3)/2.0\n",
    "    delta_x = np.abs(xc2-xc1) - (h1 + h2)/2.0\n",
    "    delta_y = np.abs(yc2-yc1) - (w1 + w2)/2.0\n",
    "    delta = max(delta_x, delta_y)\n",
    "    return delta < threshold\n",
    "\n",
    "def manhattam(box_a, box_b):\n",
    "    x0, y0, x1, y1 = box_a\n",
    "    x2, y2, x3, y3 = box_b\n",
    "    if x2>=x1 and y2<=y1:\n",
    "        return False\n",
    "    elif x2>=x1 and y3>=y0:\n",
    "        return False\n",
    "    elif x3<=x0 and y3>=y0:\n",
    "        return False\n",
    "    elif x3<=x0 and y2<=y1:\n",
    "        return False\n",
    "    else:\n",
    "        return True\n",
    "rooms_bbs = np.array(rectangles)\n",
    "temp=rooms_bbs\n",
    "features = []\n",
    "rooms_bbs_new = []\n",
    "for i, bb in enumerate(rooms_bbs):\n",
    "    x0, y0 = bb[0], bb[1]\n",
    "    x1, y1 = bb[2], bb[3]\n",
    "    #temp.append([x0,y0,x1,y1])\n",
    "    xmin, ymin = min(x0, x1), min(y0, y1)\n",
    "    xmax, ymax = max(x0, x1), max(y0, y1)\n",
    "    l, b = xmax - xmin, ymax - ymin\n",
    "    area = l*b\n",
    "    if l<b:\n",
    "        l, b = b, l\n",
    "    features.append([area, l, b, 0, 0]) \n",
    "    rooms_bbs_new.append(np.array([xmin, ymin, xmax, ymax]))\n",
    "rooms_bbs = np.stack(rooms_bbs_new)\n",
    "intersect = intersect(rooms_bbs,rooms_bbs)\n",
    "for i in range(len(rooms_bbs)):\n",
    "    for j in range(i+1,len(rooms_bbs)):\n",
    "        if intersect[i,j]>0.7*intersect[j,j]:\n",
    "            if intersect[i,i]>intersect[j,j]: #is i a parent\n",
    "                features[i][4] = 1\n",
    "                features[j][3] = 1\n",
    "            else:   # i is child\n",
    "                features[i][3] = 1\n",
    "                features[j][4] = 1\n",
    "        if intersect[i,j]>0.7*intersect[i,i]:\n",
    "            if intersect[j,j]>intersect[i,i]: \n",
    "                features[j][4] = 1\n",
    "                features[i][3] = 1\n",
    "            else:\n",
    "                features[j][3] = 1\n",
    "                features[i][4] = 1\n",
    "\n",
    "rooms_bbs = rooms_bbs/256.0\n",
    "tl = np.min(rooms_bbs[:, :2], 0)\n",
    "br = np.max(rooms_bbs[:, 2:], 0)\n",
    "shift = (tl+br)/2.0 - 0.5\n",
    "rooms_bbs[:, :2] -= shift\n",
    "rooms_bbs[:, 2:] -= shift\n",
    "tl -= shift\n",
    "br -= shift\n",
    "edges = build_graph(rooms_bbs,temp) \n",
    "#         labels = labels - 1\n",
    "#         labels[labels>=5] = labels[labels>=5] - 1\n",
    "x = torch.tensor(features, dtype=torch.float)\n",
    "edge_index = torch.tensor(edges.T, dtype=torch.long)\n",
    "#y = torch.tensor(labels, dtype=torch.long)\n",
    "d = Data(x=x, edge_index=edge_index)\n",
    "print(d)"
   ]
  },
  {
   "cell_type": "code",
   "execution_count": 5,
   "metadata": {},
   "outputs": [],
   "source": [
    "import torch.nn.functional as F\n",
    "class Model(torch.nn.Module):\n",
    "\n",
    "    def __init__(self, layer_type, n_hidden=2):\n",
    "        super(Model, self).__init__()\n",
    "        torch.manual_seed(42)\n",
    "        self.is_mlp = True if layer_type.__name__=='Linear' else False\n",
    "        self.layer1 = layer_type(5, 16)\n",
    "        self.layer2 = torch.nn.ModuleList()\n",
    "        for _ in range(n_hidden-1):\n",
    "            self.layer2.append(layer_type(16,16))\n",
    "        self.classifier = Linear(16, 13)\n",
    "\n",
    "    def forward(self, x, edge_index):\n",
    "        h = self.layer1(x) if self.is_mlp else self.layer1(x, edge_index)\n",
    "        h = F.relu(h)\n",
    "        for layer in self.layer2:\n",
    "            h = layer(h) if self.is_mlp else layer(h, edge_index)\n",
    "            h = F.relu(h)\n",
    "        out = self.classifier(h)\n",
    "        return out"
   ]
  },
  {
   "cell_type": "code",
   "execution_count": 6,
   "metadata": {},
   "outputs": [],
   "source": [
    "models = {\n",
    "    'mlp': Linear,\n",
    "    'gcn': GCNConv,\n",
    "    'gat': GATConv,\n",
    "    'sage': SAGEConv,\n",
    "    'tagcn': TAGConv,\n",
    "}\n",
    "model_type = 'tagcn'\n",
    "hidden_layers = 2"
   ]
  },
  {
   "cell_type": "code",
   "execution_count": 7,
   "metadata": {},
   "outputs": [
    {
     "data": {
      "text/plain": [
       "Model(\n",
       "  (layer1): TAGConv(5, 16, K=3)\n",
       "  (layer2): ModuleList(\n",
       "    (0): TAGConv(16, 16, K=3)\n",
       "  )\n",
       "  (classifier): Linear(in_features=16, out_features=13, bias=True)\n",
       ")"
      ]
     },
     "execution_count": 7,
     "metadata": {},
     "output_type": "execute_result"
    }
   ],
   "source": [
    "# Load the saved model\n",
    "loaded_model = Model(layer_type=models[model_type], n_hidden=hidden_layers)\n",
    "loaded_model.load_state_dict(torch.load('trained_model.pth',map_location=torch.device('cpu')))\n",
    "loaded_model.eval()"
   ]
  },
  {
   "cell_type": "code",
   "execution_count": 8,
   "metadata": {},
   "outputs": [],
   "source": [
    "with torch.no_grad():\n",
    "    x, edge_index = d.x, d.edge_index\n",
    "    new_predictions = loaded_model(x, edge_index)"
   ]
  },
  {
   "cell_type": "code",
   "execution_count": 9,
   "metadata": {},
   "outputs": [
    {
     "data": {
      "text/plain": [
       "tensor([[19.6577, 19.1572, 16.0103, 11.3212, 15.9886, 10.4278, 11.1756, 13.4409,\n",
       "          9.4510, 13.7601, 13.3788, 12.9893, 10.2032],\n",
       "        [24.1325, 21.5887, 17.8572, 11.0206, 18.8274, 13.3681, 13.8989, 17.2650,\n",
       "         12.5980, 11.7008, 13.5085, 12.0072,  8.9507],\n",
       "        [12.0213, 12.4570, 12.8713,  8.6467, 12.4724, 12.0722, 13.0741, 15.8364,\n",
       "         11.0829,  6.0371,  6.8777,  6.3619,  4.5582],\n",
       "        [-5.0809,  2.8110,  9.9800,  9.6323,  3.5381,  4.6122,  6.9502,  5.0972,\n",
       "          2.8047, 15.3043,  6.5073,  8.2095,  7.2542],\n",
       "        [-4.5426, -3.1955,  5.0474,  9.9094,  1.4233, -0.6915,  1.3607, -0.1371,\n",
       "         -2.1426,  6.4763,  3.1811,  7.0487,  6.4493],\n",
       "        [-5.2762, -1.6604,  9.6530,  8.9314,  3.5781,  5.3510,  7.8441,  6.3958,\n",
       "          3.7852,  8.7173,  3.1681,  4.4224,  3.7077]])"
      ]
     },
     "execution_count": 9,
     "metadata": {},
     "output_type": "execute_result"
    }
   ],
   "source": [
    "new_predictions"
   ]
  },
  {
   "cell_type": "code",
   "execution_count": 10,
   "metadata": {},
   "outputs": [
    {
     "data": {
      "text/plain": [
       "tensor([[6.0012e-01, 3.6381e-01, 1.5640e-02, 1.4380e-04, 1.5304e-02, 5.8852e-05,\n",
       "         1.2432e-04, 1.1976e-03, 2.2160e-05, 1.6480e-03, 1.1255e-03, 7.6244e-04,\n",
       "         4.7011e-05],\n",
       "        [9.2034e-01, 7.2306e-02, 1.7323e-03, 1.8600e-06, 4.5703e-03, 1.9455e-05,\n",
       "         3.3078e-05, 9.5809e-04, 9.0066e-06, 3.6722e-06, 2.2387e-05, 4.9886e-06,\n",
       "         2.3473e-07],\n",
       "        [1.7797e-02, 2.7513e-02, 4.1637e-02, 6.0923e-04, 2.7941e-02, 1.8725e-02,\n",
       "         5.0997e-02, 8.0760e-01, 6.9631e-03, 4.4814e-05, 1.0387e-04, 6.2017e-05,\n",
       "         1.0213e-05],\n",
       "        [1.3884e-09, 3.7147e-06, 4.8240e-03, 3.4071e-03, 7.6861e-06, 2.2501e-05,\n",
       "         2.3311e-04, 3.6543e-05, 3.6915e-06, 9.9017e-01, 1.4970e-04, 8.2127e-04,\n",
       "         3.1594e-04],\n",
       "        [4.6814e-07, 1.8005e-06, 6.8432e-03, 8.8468e-01, 1.8252e-04, 2.2023e-05,\n",
       "         1.7145e-04, 3.8339e-05, 5.1602e-06, 2.8563e-02, 1.0586e-03, 5.0631e-02,\n",
       "         2.7804e-02],\n",
       "        [1.5570e-07, 5.7890e-06, 4.7421e-01, 2.3045e-01, 1.0906e-03, 6.4212e-03,\n",
       "         7.7688e-02, 1.8255e-02, 1.3416e-03, 1.8604e-01, 7.2376e-04, 2.5372e-03,\n",
       "         1.2415e-03]])"
      ]
     },
     "execution_count": 10,
     "metadata": {},
     "output_type": "execute_result"
    }
   ],
   "source": [
    "# Define the threshold for selecting classes\n",
    "threshold = 0.1\n",
    "\n",
    "# Apply the softmax function to the logits to get probabilities\n",
    "probs = F.softmax(new_predictions, dim=1)\n",
    "probs"
   ]
  },
  {
   "cell_type": "code",
   "execution_count": 11,
   "metadata": {},
   "outputs": [],
   "source": [
    "result=[]\n",
    "for i, p in enumerate(probs):\n",
    "    temp=[]\n",
    "    for ind,j in enumerate(p):\n",
    "        if(j>threshold):\n",
    "            temp.append(ind)\n",
    "    result.append(temp)"
   ]
  },
  {
   "cell_type": "code",
   "execution_count": 12,
   "metadata": {},
   "outputs": [
    {
     "data": {
      "text/plain": [
       "[[0, 1], [0], [7], [9], [3], [2, 3, 9]]"
      ]
     },
     "execution_count": 12,
     "metadata": {},
     "output_type": "execute_result"
    }
   ],
   "source": [
    "result"
   ]
  },
  {
   "cell_type": "code",
   "execution_count": 22,
   "metadata": {},
   "outputs": [
    {
     "data": {
      "text/plain": [
       "tensor(0.6001)"
      ]
     },
     "execution_count": 22,
     "metadata": {},
     "output_type": "execute_result"
    }
   ],
   "source": [
    "probs[0][0]"
   ]
  },
  {
   "cell_type": "code",
   "execution_count": 38,
   "metadata": {},
   "outputs": [
    {
     "name": "stdout",
     "output_type": "stream",
     "text": [
      "[0, 0, 7, 9, 3, 2]\n",
      "[0, 0, 7, 9, 3, 3]\n",
      "[0, 0, 7, 9, 3, 9]\n",
      "[1, 0, 7, 9, 3, 2]\n",
      "[1, 0, 7, 9, 3, 3]\n",
      "[1, 0, 7, 9, 3, 9]\n",
      "[([0, 0, 7, 9, 3, 2], tensor(4.6771)), ([0, 0, 7, 9, 3, 3], tensor(4.4334)), ([0, 0, 7, 9, 3, 9], tensor(4.3889)), ([1, 0, 7, 9, 3, 2], tensor(4.4408)), ([1, 0, 7, 9, 3, 3], tensor(4.1970)), ([1, 0, 7, 9, 3, 9], tensor(4.1526))]\n"
     ]
    }
   ],
   "source": [
    "def calculate_score(combination, probs):\n",
    "    print(combination)\n",
    "    if combination is None:\n",
    "        return 0\n",
    "    score = sum(probs[i][j] for i, j in enumerate(combination))\n",
    "    return score\n",
    "def generate_combinations(arrays, current=[], index=0,probs=None):\n",
    "    result = []\n",
    "    if index == len(arrays):\n",
    "        score=calculate_score(current, probs)\n",
    "        return [(current,score)]\n",
    "\n",
    "    for element in arrays[index]:\n",
    "        result.extend(generate_combinations(arrays, current + [element], index + 1,probs))\n",
    "    \n",
    "    return result\n",
    "\n",
    "arrays = [[0, 1], [0], [7], [9], [3], [2, 3, 9]]\n",
    "combinations = generate_combinations(arrays,probs=probs)\n",
    "print(combinations)"
   ]
  },
  {
   "cell_type": "code",
   "execution_count": 68,
   "metadata": {},
   "outputs": [
    {
     "data": {
      "text/plain": [
       "6"
      ]
     },
     "execution_count": 68,
     "metadata": {},
     "output_type": "execute_result"
    }
   ],
   "source": [
    "len(combinations)"
   ]
  },
  {
   "cell_type": "code",
   "execution_count": 42,
   "metadata": {},
   "outputs": [],
   "source": [
    "MOD_ROOM_CLASS = {0: \"Living room\", \n",
    "                1: \"Master room\",\n",
    "                2: \"Kitchen\",\n",
    "                3: \"Bathroom\",\n",
    "                4: \"Dining room\",\n",
    "                5: \"Child room\",\n",
    "                6: \"Study room\",\n",
    "                7: \"Second room\",\n",
    "                8: \"Guest room\",\n",
    "                9: \"Balcony\",\n",
    "                10: \"Entrance\",\n",
    "                11: \"Storage\",\n",
    "                12: \"Wall-in\"}"
   ]
  },
  {
   "cell_type": "code",
   "execution_count": 70,
   "metadata": {},
   "outputs": [
    {
     "name": "stdout",
     "output_type": "stream",
     "text": [
      "[0 0 7 9 3 2]\n"
     ]
    },
    {
     "data": {
      "text/plain": [
       "['Living room', 'Living room', 'Second room', 'Balcony', 'Bathroom', 'Kitchen']"
      ]
     },
     "execution_count": 70,
     "metadata": {},
     "output_type": "execute_result"
    }
   ],
   "source": [
    "# Assuming new_predictions is your tensor\n",
    "predicted_categories = new_predictions.argmax(dim=1)\n",
    "print(np.array(predicted_categories))\n",
    "\n",
    "# Now you have the indices of the predicted categories\n",
    "# You can map these indices to the actual room categories using your MOD_ROOM_CLASS dictionary\n",
    "predicted_room_categories = [MOD_ROOM_CLASS[idx.item()] for idx in predicted_categories]\n",
    "predicted_room_categories"
   ]
  },
  {
   "cell_type": "code",
   "execution_count": 71,
   "metadata": {},
   "outputs": [
    {
     "data": {
      "image/png": "[encoded data removed]",
      "text/plain": [
       "<Figure size 640x480 with 1 Axes>"
      ]
     },
     "metadata": {},
     "output_type": "display_data"
    }
   ],
   "source": [
    "rectangles = [(77, 112, 156, 186), (72, 48, 156, 112), (31, 112, 76, 166), (106, 186, 156, 200), (49, 92, 72, 111), (157, 58, 189, 97)]\n",
    "rectangles = [[x, 255 - y1, x2, 255 - y2] for x, y1, x2, y2 in rectangles]\n",
    "\n",
    "# Define the labels\n",
    "labels = ['Living room', 'Living room', 'Second room', 'Balcony', 'Bathroom', 'Kitchen']\n",
    "\n",
    "# Create figure and axis\n",
    "fig, ax = plt.subplots()\n",
    "\n",
    "# Set limits\n",
    "ax.set_xlim(0, 256)\n",
    "ax.set_ylim(0, 256)\n",
    "\n",
    "# Add rectangles to the plot\n",
    "for rect, label in zip(rectangles, labels):\n",
    "    ax.add_patch(patches.Rectangle((rect[0], rect[1]), rect[2]-rect[0], rect[3]-rect[1], linewidth=1, edgecolor='r', facecolor='none'))\n",
    "    # Calculate center coordinates of the rectangle\n",
    "    center_x = (rect[0] + rect[2]) / 2\n",
    "    center_y = (rect[1] + rect[3]) / 2\n",
    "    # Add label at the center\n",
    "    ax.text(center_x, center_y, label, fontsize=8, color='black', ha='center', va='center')  # Center the text\n",
    "\n",
    "ax.set_aspect('equal')\n",
    "# Display the plot\n",
    "plt.show()\n"
   ]
  },
  {
   "cell_type": "markdown",
   "metadata": {},
   "source": [
    "**Multiple Suggestions**"
   ]
  },
  {
   "cell_type": "code",
   "execution_count": 37,
   "metadata": {},
   "outputs": [],
   "source": [
    "from torch_geometric.data import Data\n",
    "import torch\n",
    "import numpy as np\n",
    "from torch.nn import Linear\n",
    "from torch_geometric.nn import SAGEConv, GATConv, GCNConv, TAGConv"
   ]
  },
  {
   "cell_type": "code",
   "execution_count": 38,
   "metadata": {},
   "outputs": [],
   "source": [
    "import torch.nn.functional as F\n",
    "class Model(torch.nn.Module):\n",
    "\n",
    "    def __init__(self, layer_type, n_hidden=2):\n",
    "        super(Model, self).__init__()\n",
    "        torch.manual_seed(42)\n",
    "        self.is_mlp = True if layer_type.__name__=='Linear' else False\n",
    "        self.layer1 = layer_type(5, 16)\n",
    "        self.layer2 = torch.nn.ModuleList()\n",
    "        for _ in range(n_hidden-1):\n",
    "            self.layer2.append(layer_type(16,16))\n",
    "        self.classifier = Linear(16, 13)\n",
    "\n",
    "    def forward(self, x, edge_index):\n",
    "        h = self.layer1(x) if self.is_mlp else self.layer1(x, edge_index)\n",
    "        h = F.relu(h)\n",
    "        for layer in self.layer2:\n",
    "            h = layer(h) if self.is_mlp else layer(h, edge_index)\n",
    "            h = F.relu(h)\n",
    "        out = self.classifier(h)\n",
    "        return out"
   ]
  },
  {
   "cell_type": "code",
   "execution_count": 39,
   "metadata": {},
   "outputs": [
    {
     "data": {
      "text/plain": [
       "Model(\n",
       "  (layer1): TAGConv(5, 16, K=3)\n",
       "  (layer2): ModuleList(\n",
       "    (0): TAGConv(16, 16, K=3)\n",
       "  )\n",
       "  (classifier): Linear(in_features=16, out_features=13, bias=True)\n",
       ")"
      ]
     },
     "execution_count": 39,
     "metadata": {},
     "output_type": "execute_result"
    }
   ],
   "source": [
    "# Load the saved model\n",
    "loaded_model = Model(layer_type=TAGConv, n_hidden=2)\n",
    "loaded_model.load_state_dict(torch.load('trained_model.pth',map_location=torch.device('cpu')))\n",
    "loaded_model.eval()"
   ]
  },
  {
   "cell_type": "code",
   "execution_count": 40,
   "metadata": {},
   "outputs": [],
   "source": [
    "MOD_ROOM_CLASS = {0: \"Living room\", \n",
    "                1: \"Master room\",\n",
    "                2: \"Kitchen\",\n",
    "                3: \"Bathroom\",\n",
    "                4: \"Dining room\",\n",
    "                5: \"Child room\",\n",
    "                6: \"Study room\",\n",
    "                7: \"Second room\",\n",
    "                8: \"Guest room\",\n",
    "                9: \"Balcony\",\n",
    "                10: \"Entrance\",\n",
    "                11: \"Storage\",\n",
    "                12: \"Wall-in\"}"
   ]
  },
  {
   "cell_type": "code",
   "execution_count": 41,
   "metadata": {},
   "outputs": [],
   "source": [
    "def calculate_score(combination, probs):\n",
    "    print(combination)\n",
    "    if combination is None:\n",
    "        return 0\n",
    "    score = sum(probs[i][j] for i, j in enumerate(combination))\n",
    "    return score\n",
    "def generate_combinations(arrays, current=[], index=0,probs=None):\n",
    "    result = []\n",
    "    if index == len(arrays):\n",
    "        score=calculate_score(current, probs)\n",
    "        return [(current,score)]\n",
    "\n",
    "    for element in arrays[index]:\n",
    "        result.extend(generate_combinations(arrays, current + [element], index + 1,probs))\n",
    "    \n",
    "    return result"
   ]
  },
  {
   "cell_type": "code",
   "execution_count": 42,
   "metadata": {},
   "outputs": [],
   "source": [
    "def intersect_(A,B):\n",
    "    A, B = A[:,None], B[None]\n",
    "    low = np.s_[...,:2]\n",
    "    high = np.s_[...,2:]\n",
    "    A,B = A.copy(),B.copy()\n",
    "    A[high] += 1; B[high] += 1\n",
    "    intrs = (np.maximum(0,np.minimum(A[high],B[high])\n",
    "                        -np.maximum(A[low],B[low]))).prod(-1)\n",
    "    return intrs #/ ((A[high]-A[low]).prod(-1)+(B[high]-B[low]).prod(-1)-intrs)\n",
    "\n",
    "def build_graph(bbs,temp):\n",
    "    edges = []\n",
    "    for k in range(len(bbs)):\n",
    "        for l in range(len(bbs)):\n",
    "            if l > k:\n",
    "                bb0 = bbs[k]\n",
    "                bb1 = bbs[l]\n",
    "                #print(bbs,temp)\n",
    "                bb2 = temp[k]\n",
    "                bb3 = temp[l]\n",
    "                if is_adjacent(bb0, bb1) and  manhattam(bb2,bb3):\n",
    "                    edges.append([k, l])\n",
    "                    edges.append([l, k])\n",
    "    edges = np.array(edges)\n",
    "    return edges\n",
    "\n",
    "def is_adjacent(box_a, box_b, threshold=0.03):\n",
    "        \n",
    "    x0, y0, x1, y1 = box_a\n",
    "    x2, y2, x3, y3 = box_b\n",
    "    h1, h2 = x1-x0, x3-x2\n",
    "    w1, w2 = y1-y0, y3-y2\n",
    "    xc1, xc2 = (x0+x1)/2.0, (x2+x3)/2.0\n",
    "    yc1, yc2 = (y0+y1)/2.0, (y2+y3)/2.0\n",
    "    delta_x = np.abs(xc2-xc1) - (h1 + h2)/2.0\n",
    "    delta_y = np.abs(yc2-yc1) - (w1 + w2)/2.0\n",
    "    delta = max(delta_x, delta_y)\n",
    "    return delta < threshold\n",
    "\n",
    "def manhattam(box_a, box_b):\n",
    "    x0, y0, x1, y1 = box_a\n",
    "    x2, y2, x3, y3 = box_b\n",
    "    if x2>=x1 and y2<=y1:\n",
    "        return False\n",
    "    elif x2>=x1 and y3>=y0:\n",
    "        return False\n",
    "    elif x3<=x0 and y3>=y0:\n",
    "        return False\n",
    "    elif x3<=x0 and y2<=y1:\n",
    "        return False\n",
    "    else:\n",
    "        return True\n",
    "def calculate_score(combination, probs):\n",
    "    score = sum(probs[i][j] for i, j in enumerate(combination))\n",
    "    return score\n",
    "def fn(rectangles):\n",
    "    rooms_bbs = np.array(rectangles)\n",
    "    temp=rooms_bbs\n",
    "    features = []\n",
    "    rooms_bbs_new = []\n",
    "    for i, bb in enumerate(rooms_bbs):\n",
    "        x0, y0 = bb[0], bb[1]\n",
    "        x1, y1 = bb[2], bb[3]\n",
    "        #temp.append([x0,y0,x1,y1])\n",
    "        xmin, ymin = min(x0, x1), min(y0, y1)\n",
    "        xmax, ymax = max(x0, x1), max(y0, y1)\n",
    "        l, b = xmax - xmin, ymax - ymin\n",
    "        area = l*b\n",
    "        if l<b:\n",
    "            l, b = b, l\n",
    "        features.append([area, l, b, 0, 0]) \n",
    "        rooms_bbs_new.append(np.array([xmin, ymin, xmax, ymax]))\n",
    "    rooms_bbs = np.stack(rooms_bbs_new)\n",
    "    intersect = intersect_(rooms_bbs,rooms_bbs)\n",
    "    for i in range(len(rooms_bbs)):\n",
    "        for j in range(i+1,len(rooms_bbs)):\n",
    "            if intersect[i,j]>0.7*intersect[j,j]:\n",
    "                if intersect[i,i]>intersect[j,j]: #is i a parent\n",
    "                    features[i][4] = 1\n",
    "                    features[j][3] = 1\n",
    "                else:   # i is child\n",
    "                    features[i][3] = 1\n",
    "                    features[j][4] = 1\n",
    "            if intersect[i,j]>0.7*intersect[i,i]:\n",
    "                if intersect[j,j]>intersect[i,i]: \n",
    "                    features[j][4] = 1\n",
    "                    features[i][3] = 1\n",
    "                else:\n",
    "                    features[j][3] = 1\n",
    "                    features[i][4] = 1\n",
    "\n",
    "    rooms_bbs = rooms_bbs/256.0\n",
    "    tl = np.min(rooms_bbs[:, :2], 0)\n",
    "    br = np.max(rooms_bbs[:, 2:], 0)\n",
    "    shift = (tl+br)/2.0 - 0.5\n",
    "    rooms_bbs[:, :2] -= shift\n",
    "    rooms_bbs[:, 2:] -= shift\n",
    "    tl -= shift\n",
    "    br -= shift\n",
    "    edges = build_graph(rooms_bbs,temp) \n",
    "    #         labels = labels - 1\n",
    "    #         labels[labels>=5] = labels[labels>=5] - 1\n",
    "    x = torch.tensor(features, dtype=torch.float)\n",
    "    edge_index = torch.tensor(edges.T, dtype=torch.long)\n",
    "    #y = torch.tensor(labels, dtype=torch.long)\n",
    "    d = Data(x=x, edge_index=edge_index)\n",
    "    with torch.no_grad():\n",
    "        x, edge_index = d.x, d.edge_index\n",
    "        new_predictions = loaded_model(x, edge_index)\n",
    "    threshold=0.1\n",
    "    probs = F.softmax(new_predictions, dim=1)\n",
    "    result=[]\n",
    "    for i, p in enumerate(probs):\n",
    "        temp=[]\n",
    "        for ind,j in enumerate(p):\n",
    "            if(j>threshold):\n",
    "                temp.append(ind)\n",
    "        result.append(temp)\n",
    "    #print(result)\n",
    "    combinations = generate_combinations(result,probs=probs)\n",
    "    return (combinations,d)"
   ]
  },
  {
   "cell_type": "code",
   "execution_count": 43,
   "metadata": {},
   "outputs": [
    {
     "data": {
      "image/png": "[encoded data removed]",
      "text/plain": [
       "<Figure size 1000x800 with 6 Axes>"
      ]
     },
     "metadata": {},
     "output_type": "display_data"
    }
   ],
   "source": [
    "import matplotlib.pyplot as plt\n",
    "import matplotlib.patches as patches\n",
    "import pickle\n",
    "\n",
    "# Original rectangles\n",
    "with open('rectangles.pkl', 'rb') as f:\n",
    "    rectangles = pickle.load(f)\n",
    "#rectangles = [(64, 89, 143, 163), (59, 19, 145, 89), (60, 18, 86, 53), (84, 3, 146, 19), (143, 89, 201, 143), (142, 142, 183, 163), (35, 87, 63, 116)]\n",
    "rectangles = [[x, 255 - y1, x2, 255 - y2] for x, y1, x2, y2 in rectangles]\n",
    "\n",
    "combinations,d=fn(rectangles)\n",
    "labels_list=[]\n",
    "scores_list=[]\n",
    "for i in range(len(combinations)):\n",
    "    predicted_room_categories = [MOD_ROOM_CLASS[idx.item()] for idx in np.array(combinations[i][0])]\n",
    "    labels_list.append(predicted_room_categories)\n",
    "    scores_list.append(combinations[i][1])\n",
    "\n",
    "# Calculate number of rows and columns\n",
    "num_plots = len(labels_list)\n",
    "cols = 3  # Number of columns\n",
    "rows = -(-num_plots // cols)  # Ceiling division to ensure we have enough rows\n",
    "\n",
    "fig, axs = plt.subplots(rows, cols, figsize=(10, 4*rows))\n",
    "axs = axs.flatten()  # Flatten the 2D array of axes for easier indexing\n",
    "j=0\n",
    "for ax, labels, score in zip(axs, labels_list, scores_list):\n",
    "    # Set limits\n",
    "    ax.set_xlim(0, 256)\n",
    "    ax.set_ylim(0, 256)\n",
    "    \n",
    "    # Add rectangles to the plot\n",
    "    for rect, label in zip(rectangles, labels):\n",
    "        ax.add_patch(patches.Rectangle((rect[0], rect[1]), rect[2]-rect[0], rect[3]-rect[1], linewidth=1, edgecolor='r', facecolor='none'))\n",
    "        # Calculate center coordinates of the rectangle\n",
    "        center_x = (rect[0] + rect[2]) / 2\n",
    "        center_y = (rect[1] + rect[3]) / 2\n",
    "        # Add label at the center\n",
    "        ax.text(center_x, center_y, label, fontsize=6, color='black', ha='center', va='center')  # Center the text\n",
    "    ax.text(10, 10, f'{j}', fontsize=8, color='blue', ha='left', va='bottom')\n",
    "    j+=1\n",
    "\n",
    "    ax.set_aspect('equal')\n",
    "\n",
    "# Hide any empty subplots\n",
    "for i in range(num_plots, len(axs)):\n",
    "    axs[i].axis('off')\n",
    "\n",
    "plt.tight_layout()\n",
    "# Display the plot\n",
    "plt.show()"
   ]
  },
  {
   "cell_type": "markdown",
   "metadata": {},
   "source": [
    "**Vastu Shastra**"
   ]
  },
  {
   "cell_type": "code",
   "execution_count": 44,
   "metadata": {},
   "outputs": [],
   "source": [
    "def center_of_plot(boxes):\n",
    "    # Calculate the minimum and maximum x and y coordinates\n",
    "    x_min = min(min(box[0], box[2]) for box in boxes)\n",
    "    x_max = max(max(box[0], box[2]) for box in boxes)\n",
    "    y_min = min(min(box[1], box[3]) for box in boxes)\n",
    "    y_max = max(max(box[1], box[3]) for box in boxes)\n",
    "\n",
    "    # Calculate the center of the floorplan\n",
    "    center_x = (x_min + x_max) / 2\n",
    "    center_y = (y_min + y_max) / 2\n",
    "    return (center_x,center_y)"
   ]
  },
  {
   "cell_type": "code",
   "execution_count": 45,
   "metadata": {},
   "outputs": [],
   "source": [
    "vastu_scores = {\n",
    "    0: [7, 6, 5, 4, 3, 2, 1, 0, 7],\n",
    "    1: [3, 0, 2, 1, 6, 7, 5, 4, 3],\n",
    "    2: [2, 0, 5, 7, 3, 1, 4, 6, 2],\n",
    "    3: [4, 0, 3, 2, 5, 1, 6, 7, 4],\n",
    "    4: [6, 5, 7, 4, 1, 0, 2, 3, 6],\n",
    "    5: [5, 3, 4, 6, 1, 0, 2, 7, 5],\n",
    "    6: [6, 5, 4, 3, 2, 1, 0, 7, 6],\n",
    "    7: [6, 5, 4, 3, 2, 1, 0, 7, 6],\n",
    "    8: [6, 4, 5, 3, 1, 0, 2, 7, 6],\n",
    "    9: [5, 6, 4, 3, 2, 1, 0, 7, 5],\n",
    "    10: [5, 7, 6, 3, 1, 0, 2, 4, 5],\n",
    "    11: [6, 4, 5, 3, 1, 0, 2, 7, 6],\n",
    "    12: [6, 5, 4, 3, 2, 1, 0, 7, 6],\n",
    "    13: [5, 7, 6, 3, 1, 0, 2, 4, 5]\n",
    "}"
   ]
  },
  {
   "cell_type": "code",
   "execution_count": 46,
   "metadata": {},
   "outputs": [
    {
     "name": "stdout",
     "output_type": "stream",
     "text": [
      "[[0, 0], [6, 1], [1, 4], [2, 3], [3, 6], [9, 7]]\n"
     ]
    }
   ],
   "source": [
    "import math\n",
    "(center_x,center_y)=center_of_plot(rectangles)\n",
    "orientation=[]\n",
    "#vastu=[]\n",
    "result=[]\n",
    "index=0\n",
    "for i in range(len(rectangles)):\n",
    "    # Calculate centroid\n",
    "    x0,y0,x1,y1=rectangles[i]\n",
    "    y_centroid = (y0 + y1) / 2\n",
    "    x_centroid = (x0 + x1) / 2\n",
    "    #print(x_centroid,y_centroid)\n",
    "\n",
    "    deltaX = x_centroid - center_x\n",
    "    deltaY = y_centroid - center_y\n",
    "\n",
    "    degrees_temp = math.atan2(deltaX, deltaY)/math.pi*180\n",
    "\n",
    "    if degrees_temp < 0:\n",
    "        degrees_final = 360 + degrees_temp\n",
    "    else:\n",
    "        degrees_final = degrees_temp\n",
    "    \n",
    "    compass_brackets = [\"N\", \"NE\", \"E\", \"SE\", \"S\", \"SW\", \"W\", \"NW\", \"N\"]\n",
    "    compass_lookup = round(degrees_final / 45)\n",
    "    orientation.append(compass_lookup)\n",
    "    #orientation.append(compass_brackets[compass_lookup])\n",
    "    #vastu.append(vastu_scores[c][compass_lookup])\n",
    "    room_types=combinations[index][0]\n",
    "    result.append([room_types[i],compass_lookup])\n",
    "print(result)"
   ]
  },
  {
   "cell_type": "code",
   "execution_count": 47,
   "metadata": {},
   "outputs": [
    {
     "data": {
      "text/plain": [
       "tensor([[0., 0.],\n",
       "        [6., 1.],\n",
       "        [1., 4.],\n",
       "        [2., 3.],\n",
       "        [3., 6.],\n",
       "        [9., 7.]])"
      ]
     },
     "execution_count": 47,
     "metadata": {},
     "output_type": "execute_result"
    }
   ],
   "source": [
    "data = torch.tensor(result, dtype=torch.float)\n",
    "data"
   ]
  },
  {
   "cell_type": "code",
   "execution_count": 48,
   "metadata": {},
   "outputs": [],
   "source": [
    "class Model1(torch.nn.Module):\n",
    "\n",
    "    def __init__(self, layer_type, n_hidden=2):\n",
    "        super(Model1, self).__init__()\n",
    "        torch.manual_seed(42)\n",
    "        self.is_mlp = True if layer_type.__name__=='Linear' else False\n",
    "        self.layer1 = layer_type(2, 16)\n",
    "        self.layer2 = torch.nn.ModuleList()\n",
    "        for _ in range(n_hidden-1):\n",
    "            self.layer2.append(layer_type(16,16))\n",
    "        self.classifier = Linear(16, 14)\n",
    "\n",
    "    def forward(self, x, edge_index):\n",
    "        h = self.layer1(x) if self.is_mlp else self.layer1(x, edge_index)\n",
    "        h = F.relu(h)\n",
    "        for layer in self.layer2:\n",
    "            h = layer(h) if self.is_mlp else layer(h, edge_index)\n",
    "            h = F.relu(h)\n",
    "        out = self.classifier(h)\n",
    "        return out"
   ]
  },
  {
   "cell_type": "code",
   "execution_count": 49,
   "metadata": {},
   "outputs": [
    {
     "data": {
      "text/plain": [
       "Model1(\n",
       "  (layer1): Linear(in_features=2, out_features=16, bias=True)\n",
       "  (layer2): ModuleList(\n",
       "    (0): Linear(in_features=16, out_features=16, bias=True)\n",
       "  )\n",
       "  (classifier): Linear(in_features=16, out_features=14, bias=True)\n",
       ")"
      ]
     },
     "execution_count": 49,
     "metadata": {},
     "output_type": "execute_result"
    }
   ],
   "source": [
    "loaded_model = Model1(layer_type=Linear, n_hidden=2)\n",
    "loaded_model.load_state_dict(torch.load('MLP_vastu_trained_model.pth',map_location=torch.device('cpu')))\n",
    "loaded_model"
   ]
  },
  {
   "cell_type": "code",
   "execution_count": 50,
   "metadata": {},
   "outputs": [],
   "source": [
    "with torch.no_grad():\n",
    "    x, edge_index = data, d.edge_index\n",
    "    new_predictions = loaded_model(x, _)"
   ]
  },
  {
   "cell_type": "code",
   "execution_count": 51,
   "metadata": {},
   "outputs": [
    {
     "data": {
      "text/plain": [
       "tensor([[-1.5298e+02, -4.5797e+01, -4.0873e+01, -1.3808e+02,  8.3003e+01,\n",
       "         -5.4208e+01,  8.1126e+01,  9.5494e+01, -1.3078e+02, -1.2726e+02,\n",
       "         -1.2956e+02, -9.7761e+01, -1.3972e+02, -1.1470e+02],\n",
       "        [-1.4775e+01,  6.1743e+00, -1.0196e+01,  1.4514e+01,  2.4440e+01,\n",
       "          2.7335e+01,  2.3353e+01, -1.1133e-01, -4.2998e+01, -4.5831e+01,\n",
       "         -4.4165e+01, -3.9946e+01, -4.7245e+01, -4.3103e+01],\n",
       "        [-3.8450e+01,  1.4010e+01,  1.3448e-01, -1.6029e+01,  7.3727e+00,\n",
       "          9.8325e+00,  2.0415e+01,  1.7077e+01, -5.5708e+01, -5.7806e+01,\n",
       "         -6.9179e+01, -7.1958e+01, -7.1148e+01, -6.2004e+01],\n",
       "        [ 2.5723e+00,  8.8753e+00,  7.9341e+00, -9.2111e+00, -5.0590e+00,\n",
       "          9.0052e+00,  9.4179e-01,  1.0517e+01, -4.2722e+01, -4.2506e+01,\n",
       "         -5.4578e+01, -5.1409e+01, -5.3981e+01, -4.4205e+01],\n",
       "        [-2.4709e+01,  1.5845e+01,  7.0059e+00,  1.2381e+01,  1.5138e+01,\n",
       "          1.2133e+01,  1.8252e+01,  1.6236e+01, -8.8291e+01, -9.0347e+01,\n",
       "         -1.0736e+02, -1.0634e+02, -1.0730e+02, -9.5467e+01],\n",
       "        [ 4.8877e+01,  4.2942e+00,  4.3777e+01, -2.0480e+02,  4.0464e+01,\n",
       "          4.0344e+01,  4.1248e+01,  5.5656e+01, -1.3574e+02, -1.3749e+02,\n",
       "         -1.5604e+02, -1.4041e+02, -1.5595e+02, -1.4156e+02]])"
      ]
     },
     "execution_count": 51,
     "metadata": {},
     "output_type": "execute_result"
    }
   ],
   "source": [
    "new_predictions"
   ]
  },
  {
   "cell_type": "code",
   "execution_count": 52,
   "metadata": {},
   "outputs": [
    {
     "name": "stdout",
     "output_type": "stream",
     "text": [
      "tensor([7, 5, 6, 7, 6, 7])\n"
     ]
    }
   ],
   "source": [
    "predicted_categories = new_predictions.argmax(dim=1)\n",
    "print(predicted_categories)"
   ]
  },
  {
   "cell_type": "code",
   "execution_count": 53,
   "metadata": {},
   "outputs": [
    {
     "name": "stdout",
     "output_type": "stream",
     "text": [
      "Vastu Compliance Score: 90.47619047619048\n"
     ]
    }
   ],
   "source": [
    "total_sum = torch.sum(predicted_categories).item()\n",
    "max_possible_sum = 7 * len(predicted_categories)\n",
    "score = (total_sum / max_possible_sum) * 100\n",
    "\n",
    "print(\"Vastu Compliance Score:\", score)"
   ]
  },
  {
   "cell_type": "code",
   "execution_count": null,
   "metadata": {},
   "outputs": [],
   "source": [
    "#8000"
   ]
  }
 ],
 "metadata": {
  "kernelspec": {
   "display_name": "graph",
   "language": "python",
   "name": "python3"
  },
  "language_info": {
   "codemirror_mode": {
    "name": "ipython",
    "version": 3
   },
   "file_extension": ".py",
   "mimetype": "text/x-python",
   "name": "python",
   "nbconvert_exporter": "python",
   "pygments_lexer": "ipython3",
   "version": "3.9.18"
  }
 },
 "nbformat": 4,
 "nbformat_minor": 2
}
